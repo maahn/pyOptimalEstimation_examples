{
 "cells": [
  {
   "attachments": {},
   "cell_type": "markdown",
   "metadata": {},
   "source": [
    "# Prepare radiosondes\n",
    "\n",
    "This script is for documentation only. Running it requires downloading radiosonde observations (nsainterpolatedsondeC1) from https://www.arm.gov/data\n",
    "\n",
    "Because this is only a toy retrieval, we made a couple of important simplifications:\n",
    "* Instead of using the radiosondes directly, the ARM interpolated radiosonde product is used for convenience at standard observations times. \n",
    "* The filtering of outliers is very crude\n",
    "* Only every 5th available height level is used. \n",
    "\n",
    "When designing an operational retrieval, these shortcomings should be addressed."
   ]
  },
  {
   "cell_type": "code",
   "execution_count": 1,
   "metadata": {},
   "outputs": [],
   "source": [
    "import xarray as xr\n",
    "import pandas as pn\n",
    "import numpy as np\n",
    "import matplotlib.pyplot as plt\n",
    "import scipy.stats as stats\n",
    "import pamtra2\n",
    "import supporting_routines\n",
    "%matplotlib inline"
   ]
  },
  {
   "cell_type": "markdown",
   "metadata": {},
   "source": [
    "Open data\n",
    "\n"
   ]
  },
  {
   "cell_type": "code",
   "execution_count": 2,
   "metadata": {},
   "outputs": [
    {
     "name": "stderr",
     "output_type": "stream",
     "text": [
      "/home/mmaahn/miniconda3/envs/py36/lib/python3.6/site-packages/ipykernel_launcher.py:1: FutureWarning: In xarray version 0.15 the default behaviour of `open_mfdataset`\n",
      "will change. To retain the existing behavior, pass\n",
      "combine='nested'. To use future default behavior, pass\n",
      "combine='by_coords'. See\n",
      "http://xarray.pydata.org/en/stable/combining.html#combining-multi\n",
      "\n",
      "  \"\"\"Entry point for launching an IPython kernel.\n",
      "/home/mmaahn/miniconda3/envs/py36/lib/python3.6/site-packages/xarray/backends/api.py:933: FutureWarning: The datasets supplied have global dimension coordinates. You may want\n",
      "to use the new `combine_by_coords` function (or the\n",
      "`combine='by_coords'` option to `open_mfdataset`) to order the datasets\n",
      "before concatenation. Alternatively, to continue concatenating based\n",
      "on the order the datasets are supplied in future, please use the new\n",
      "`combine_nested` function (or the `combine='nested'` option to\n",
      "open_mfdataset).\n",
      "  from_openmfds=True,\n"
     ]
    }
   ],
   "source": [
    "interpolatedsonde = xr.open_mfdataset('/psd3data/oliktok/RawData/ARM/nsa/sonde/nsainterpolatedsondeC1/nsainterpolatedsondeC1.c1.*.nc')\n",
    "\n"
   ]
  },
  {
   "cell_type": "markdown",
   "metadata": {},
   "source": [
    "Select data every 6 hours"
   ]
  },
  {
   "cell_type": "code",
   "execution_count": 3,
   "metadata": {},
   "outputs": [],
   "source": [
    "interpolatedsondeRS = interpolatedsonde.resample(time='6H').nearest(\n",
    "    tolerance='1H')"
   ]
  },
  {
   "cell_type": "markdown",
   "metadata": {},
   "source": [
    "Apply quality flags"
   ]
  },
  {
   "cell_type": "code",
   "execution_count": 4,
   "metadata": {},
   "outputs": [],
   "source": [
    "variables = [\n",
    "    'temp',\n",
    "    'rh',\n",
    "    'bar_pres',\n",
    "    'dp',\n",
    "]\n",
    "\n",
    "for var in variables:\n",
    "    interpolatedsondeRS[var] = interpolatedsondeRS[var].where(\n",
    "        interpolatedsondeRS['qc_%s' % var] == 0)\n",
    "interpolatedsondeRS = interpolatedsondeRS[variables]"
   ]
  },
  {
   "cell_type": "code",
   "execution_count": 5,
   "metadata": {},
   "outputs": [],
   "source": [
    "for k in list(interpolatedsondeRS.attrs.keys()):\n",
    "    del interpolatedsondeRS.attrs[k]"
   ]
  },
  {
   "cell_type": "markdown",
   "metadata": {},
   "source": [
    "remove invalid data"
   ]
  },
  {
   "cell_type": "code",
   "execution_count": 6,
   "metadata": {},
   "outputs": [],
   "source": [
    "interpolatedsondeRS = interpolatedsondeRS.dropna('time', how='all')\n",
    "interpolatedsondeRS = interpolatedsondeRS.dropna('height', how='all')"
   ]
  },
  {
   "cell_type": "markdown",
   "metadata": {},
   "source": [
    "estimate and plot potential temperature"
   ]
  },
  {
   "cell_type": "code",
   "execution_count": 7,
   "metadata": {},
   "outputs": [],
   "source": [
    "tpot = pamtra2.libs.meteo_si.temperature.T_pot(\n",
    "    interpolatedsondeRS['temp']+ 273.15, interpolatedsondeRS['bar_pres'] * 1000)\n"
   ]
  },
  {
   "cell_type": "code",
   "execution_count": 8,
   "metadata": {},
   "outputs": [
    {
     "data": {
      "image/png": "[encoded data removed]",
      "text/plain": [
       "<Figure size 432x288 with 1 Axes>"
      ]
     },
     "metadata": {
      "needs_background": "light"
     },
     "output_type": "display_data"
    }
   ],
   "source": [
    "lts = tpot - tpot[:, 0]\n",
    "level_925 = np.nanargmin(np.abs(interpolatedsondeRS.bar_pres.mean('time').values - 92.5))\n",
    "lts[:, level_925].plot.hist(bins=np.linspace(-50, 50))\n",
    "plt.yscale('log')"
   ]
  },
  {
   "cell_type": "markdown",
   "metadata": {},
   "source": [
    "remove outliers and plot again\n",
    "\n"
   ]
  },
  {
   "cell_type": "code",
   "execution_count": 9,
   "metadata": {},
   "outputs": [
    {
     "data": {
      "image/png": "[encoded data removed]",
      "text/plain": [
       "<Figure size 432x288 with 1 Axes>"
      ]
     },
     "metadata": {
      "needs_background": "light"
     },
     "output_type": "display_data"
    }
   ],
   "source": [
    "II = np.where(~((interpolatedsondeRS['temp'].diff('height') > 11).any('height')))[0]\n",
    "\n",
    "lts.isel(time=II)[:, level_925].plot.hist(bins=np.linspace(-50, 50).tolist())\n",
    "plt.yscale('log')"
   ]
  },
  {
   "cell_type": "markdown",
   "metadata": {},
   "source": [
    "limit to every 5th height"
   ]
  },
  {
   "cell_type": "code",
   "execution_count": 10,
   "metadata": {},
   "outputs": [],
   "source": [
    "hh = slice(0, 300, 5)\n",
    "interpolatedsondeRS_5 = interpolatedsondeRS.isel(height=hh, time=II)"
   ]
  },
  {
   "cell_type": "code",
   "execution_count": 11,
   "metadata": {},
   "outputs": [
    {
     "data": {
      "text/html": [
       "<pre>&lt;xarray.Dataset&gt;\n",
       "Dimensions:   (height: 60, time: 24095)\n",
       "Coordinates:\n",
       "  * time      (time) datetime64[ns] 2002-04-29 ... 2020-02-04T18:00:00\n",
       "  * height    (height) float32 0.008 0.107999995 ... 20.008007 22.508007\n",
       "Data variables:\n",
       "    temp      (time, height) float32 -11.4468975 -10.507055 ... -45.524162\n",
       "    rh        (time, height) float32 74.25851 77.52467 ... 0.5102128 0.5082667\n",
       "    bar_pres  (time, height) float32 101.90272 100.83725 ... 5.1028395 3.5113027\n",
       "    dp        (time, height) float32 -14.990514 -13.192951 ... -84.815704</pre>"
      ],
      "text/plain": [
       "<xarray.Dataset>\n",
       "Dimensions:   (height: 60, time: 24095)\n",
       "Coordinates:\n",
       "  * time      (time) datetime64[ns] 2002-04-29 ... 2020-02-04T18:00:00\n",
       "  * height    (height) float32 0.008 0.107999995 ... 20.008007 22.508007\n",
       "Data variables:\n",
       "    temp      (time, height) float32 -11.4468975 -10.507055 ... -45.524162\n",
       "    rh        (time, height) float32 74.25851 77.52467 ... 0.5102128 0.5082667\n",
       "    bar_pres  (time, height) float32 101.90272 100.83725 ... 5.1028395 3.5113027\n",
       "    dp        (time, height) float32 -14.990514 -13.192951 ... -84.815704"
      ]
     },
     "execution_count": 12,
     "metadata": {},
     "output_type": "execute_result"
    }
   ],
   "source": [
    "interpolatedsondeRS_5.load()"
   ]
  },
  {
   "cell_type": "markdown",
   "metadata": {},
   "source": [
    "Convert to SI units"
   ]
  },
  {
   "cell_type": "code",
   "execution_count": 13,
   "metadata": {},
   "outputs": [],
   "source": [
    "interpolatedsondeRS_5['height'] = interpolatedsondeRS_5.height * 1000\n",
    "interpolatedsondeRS_5['temp'] = interpolatedsondeRS_5.temp + 273.15\n",
    "interpolatedsondeRS_5['bar_pres'] = interpolatedsondeRS_5.bar_pres * 1000\n",
    "interpolatedsondeRS_5['rh'] = interpolatedsondeRS_5.rh / 100\n",
    "interpolatedsondeRS_5['q'] = pamtra2.libs.meteo_si.humidity.rh2q(interpolatedsondeRS_5.rh, interpolatedsondeRS_5.temp,\n",
    "                                                 interpolatedsondeRS_5.bar_pres) * 1000"
   ]
  },
  {
   "cell_type": "code",
   "execution_count": 14,
   "metadata": {},
   "outputs": [],
   "source": [
    "interpolatedsondeRS_5 = interpolatedsondeRS_5[['temp','q','bar_pres']]"
   ]
  },
  {
   "cell_type": "markdown",
   "metadata": {},
   "source": [
    "Store data using best possible compression"
   ]
  },
  {
   "cell_type": "code",
   "execution_count": 15,
   "metadata": {
    "scrolled": true
   },
   "outputs": [],
   "source": [
    "for var in interpolatedsondeRS_5.variables:\n",
    "    interpolatedsondeRS_5[var].encoding = {}\n",
    "    interpolatedsondeRS_5[var].encoding['zlib']=True  \n",
    "    interpolatedsondeRS_5[var].encoding['complevel'] = 9 \n",
    "    interpolatedsondeRS_5[var].encoding['_FillValue'] = -9999 \n",
    "\n",
    "\n",
    "interpolatedsondeRS_5['temp'].encoding['dtype'] = 'uint16' \n",
    "interpolatedsondeRS_5['temp'].encoding['scale_factor'] = 0.01 \n",
    "interpolatedsondeRS_5['bar_pres'].encoding['dtype'] = 'uint16' \n",
    "interpolatedsondeRS_5['bar_pres'].encoding['scale_factor'] = 10 \n",
    "interpolatedsondeRS_5['time'].encoding['dtype']='uint32'   \n",
    "\n",
    "interpolatedsondeRS_5.to_netcdf('../data/radiosonde_climatology_nsa_2002-2020.nc')"
   ]
  }
 ],
 "metadata": {
  "language_info": {
   "codemirror_mode": {
    "name": "ipython",
    "version": 3
   },
   "file_extension": ".py",
   "mimetype": "text/x-python",
   "name": "python",
   "nbconvert_exporter": "python",
   "pygments_lexer": "ipython3",
   "version": "3.6.7"
  },
  "notify_time": "5",
  "toc": {
   "base_numbering": 1,
   "nav_menu": {},
   "number_sections": true,
   "sideBar": true,
   "skip_h1_title": false,
   "title_cell": "Table of Contents",
   "title_sidebar": "Contents",
   "toc_cell": false,
   "toc_position": {
    "height": "calc(100% - 180px)",
    "left": "10px",
    "top": "150px",
    "width": "255.390625px"
   },
   "toc_section_display": true,
   "toc_window_display": true
  },
  "varInspector": {
   "cols": {
    "lenName": 16,
    "lenType": 16,
    "lenVar": 40
   },
   "kernels_config": {
    "python": {
     "delete_cmd_postfix": "",
     "delete_cmd_prefix": "del ",
     "library": "var_list.py",
     "varRefreshCmd": "print(var_dic_list())"
    },
    "r": {
     "delete_cmd_postfix": ") ",
     "delete_cmd_prefix": "rm(",
     "library": "var_list.r",
     "varRefreshCmd": "cat(var_dic_list()) "
    }
   },
   "types_to_exclude": [
    "module",
    "function",
    "builtin_function_or_method",
    "instance",
    "_Feature"
   ],
   "window_display": false
  }
 },
 "nbformat": 4,
 "nbformat_minor": 2
}
